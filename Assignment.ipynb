{
 "cells": [
  {
   "cell_type": "markdown",
   "metadata": {},
   "source": []
  },
  {
   "cell_type": "markdown",
   "metadata": {},
   "source": [
    "# Business District Analysis by Sangho Suh"
   ]
  },
  {
   "cell_type": "markdown",
   "metadata": {},
   "source": []
  },
  {
   "cell_type": "markdown",
   "metadata": {},
   "source": []
  },
  {
   "cell_type": "markdown",
   "metadata": {},
   "source": []
  },
  {
   "cell_type": "markdown",
   "metadata": {},
   "source": [
    "## Table of Contents"
   ]
  },
  {
   "cell_type": "markdown",
   "metadata": {},
   "source": []
  },
  {
   "cell_type": "markdown",
   "metadata": {},
   "source": [
    "## I. Introduction\n",
    "- Abstract\n",
    "- Environment Setting"
   ]
  },
  {
   "cell_type": "markdown",
   "metadata": {},
   "source": [
    "## II. Exploratory Data Analysis (EDA)\n",
    "- Data Wrangling\n",
    "- Hypothesis Formulation"
   ]
  },
  {
   "cell_type": "markdown",
   "metadata": {},
   "source": [
    "## III. Hypothesis Testing\n",
    "- Data Visualization"
   ]
  },
  {
   "cell_type": "markdown",
   "metadata": {},
   "source": [
    "## VI. Conclusion"
   ]
  },
  {
   "cell_type": "markdown",
   "metadata": {},
   "source": []
  },
  {
   "cell_type": "markdown",
   "metadata": {},
   "source": []
  },
  {
   "cell_type": "markdown",
   "metadata": {},
   "source": []
  },
  {
   "cell_type": "markdown",
   "metadata": {},
   "source": [
    "#### NOTE: 'A' in the beginning of comment indicates 'Analysis', while 'E' indicates 'Explanation.' 'Note' is a side note and thus NOT a critical part of the assignment."
   ]
  },
  {
   "cell_type": "markdown",
   "metadata": {},
   "source": []
  },
  {
   "cell_type": "markdown",
   "metadata": {},
   "source": []
  },
  {
   "cell_type": "markdown",
   "metadata": {},
   "source": [
    "## I. Introduction"
   ]
  },
  {
   "cell_type": "markdown",
   "metadata": {},
   "source": [
    "- Abstract"
   ]
  },
  {
   "cell_type": "markdown",
   "metadata": {},
   "source": [
    "The goal of this assignment is to explore the given dataset and combine it with public dataset of our choice to hypothesize a claim and test it."
   ]
  },
  {
   "cell_type": "markdown",
   "metadata": {},
   "source": [
    "- Environment Setting"
   ]
  },
  {
   "cell_type": "code",
   "execution_count": 5,
   "metadata": {
    "collapsed": false
   },
   "outputs": [
    {
     "name": "stdout",
     "output_type": "stream",
     "text": [
      "hello\n"
     ]
    }
   ],
   "source": [
    "print 'hello'"
   ]
  },
  {
   "cell_type": "code",
   "execution_count": 7,
   "metadata": {
    "collapsed": true
   },
   "outputs": [],
   "source": [
    "%matplotlib inline\n",
    "import matplotlib.pyplot as plt\n",
    "import pandas as pd\n",
    "import numpy as np"
   ]
  },
  {
   "cell_type": "markdown",
   "metadata": {},
   "source": []
  },
  {
   "cell_type": "markdown",
   "metadata": {},
   "source": []
  },
  {
   "cell_type": "markdown",
   "metadata": {},
   "source": []
  },
  {
   "cell_type": "markdown",
   "metadata": {},
   "source": [
    "## II. Exploratory Data Analysis (EDA)"
   ]
  },
  {
   "cell_type": "markdown",
   "metadata": {},
   "source": [
    "- Data Wrangling"
   ]
  },
  {
   "cell_type": "markdown",
   "metadata": {},
   "source": [
    "#### Let's visualize dataset to understand it"
   ]
  },
  {
   "cell_type": "markdown",
   "metadata": {},
   "source": [
    "Note: One problem encountered was that Korean characters come broken when pandas.read_csv() is used. \n",
    "      This is due to the fact that read_csv() does not use encoding('UTF-8') as default, which is needed\n",
    "      for properly displaying Korean characters\n",
    "      After displaying them using the following code, 'data wrangling' (or a.k.a 'data munging') was required\n",
    "      to properly use district names in the later part of this assignment."
   ]
  },
  {
   "cell_type": "code",
   "execution_count": 8,
   "metadata": {
    "collapsed": false
   },
   "outputs": [
    {
     "name": "stdout",
     "output_type": "stream",
     "text": [
      "province city total category\n",
      "0 서울특별시 강남구 38476 \n",
      "1 서울특별시 서초구 23099 \n",
      "2 서울특별시 송파구 19646 \n",
      "3 서울특별시 영등포구 17657 \n",
      "4 서울특별시 중구 17627 \n",
      "5 서울특별시 마포구 16067 \n",
      "6 서울특별시 종로구 15648 \n",
      "7 서울특별시 강동구 14585 \n",
      "8 서울특별시 강서구 14574 \n",
      "9 서울특별시 양천구 14154 \n",
      "10 서울특별시 노원구 13777 \n",
      "11 서울특별시 광진구 13254 \n",
      "12 서울특별시 구로구 13167 \n",
      "13 서울특별시 관악구 13094 \n",
      "14 서울특별시 은평구 12545 \n",
      "15 서울특별시 용산구 12531 \n",
      "16 서울특별시 성동구 12489 \n",
      "17 서울특별시 동대문구 12058 \n",
      "18 서울특별시 동작구 12055 \n",
      "19 서울특별시 성북구 11488 \n",
      "20 서울특별시 중랑구 10888 \n",
      "21 서울특별시 서대문구 10814 \n",
      "22 서울특별시 금천구 10611 \n",
      "23 서울특별시 도봉구 9758 \n",
      "24 서울특별시 강북구 9621 \n"
     ]
    }
   ],
   "source": [
    "# reference\n",
    "# http://freeprog.tistory.com/10\n",
    "\n",
    "import codecs\n",
    "import csv\n",
    "\n",
    "# unicode_csv_reader(), utf_8_encoder()  \n",
    "#     --->  https://docs.python.org/2/library/csv.html 에서 제공함.\n",
    "\n",
    "def unicode_csv_reader(unicode_csv_data, dialect=csv.excel, **kwargs):\n",
    "    # csv.py doesn't do Unicode; encode temporarily as UTF-8:\n",
    "    csv_reader = csv.reader(utf_8_encoder(unicode_csv_data),\n",
    "                            dialect=dialect, **kwargs)\n",
    "    for row in csv_reader:\n",
    "        # decode UTF-8 back to Unicode, cell by cell:\n",
    "        yield [unicode(cell, 'utf-8') for cell in row]\n",
    " \n",
    "def utf_8_encoder(unicode_csv_data):\n",
    "    for line in unicode_csv_data:\n",
    "        yield line.encode('utf-8')  \n",
    "        \n",
    "data = []\n",
    "  \n",
    "with codecs.open('1_total.csv','r', encoding = 'euc-kr') as csvf:\n",
    "    rd = unicode_csv_reader(csvf)\n",
    "    t = next(rd)\n",
    "    for fieldname in t:\n",
    "        print fieldname,\n",
    "        \n",
    "    print\n",
    "        \n",
    "    for idx, data in enumerate(rd):\n",
    "        print idx, data[0], data[1], data[2] \n"
   ]
  },
  {
   "cell_type": "markdown",
   "metadata": {},
   "source": [
    "#### Let's read Data "
   ]
  },
  {
   "cell_type": "code",
   "execution_count": 9,
   "metadata": {
    "collapsed": false
   },
   "outputs": [],
   "source": [
    "# Read data\n",
    "df_total = pd.read_csv('1_total.csv')\n",
    "df_top_business = pd.read_csv('1_top_business.csv')\n",
    "\n",
    "df_medical = pd.read_csv('1_medical.csv')\n",
    "df_education = pd.read_csv('1_education.csv')\n",
    "df_food = pd.read_csv('1_food.csv')\n",
    "df_wholesale = pd.read_csv('1_wholesale.csv')\n",
    "df_service = pd.read_csv('1_service.csv')"
   ]
  },
  {
   "cell_type": "markdown",
   "metadata": {},
   "source": [
    "#### What does it look like?"
   ]
  },
  {
   "cell_type": "code",
   "execution_count": 10,
   "metadata": {
    "collapsed": false
   },
   "outputs": [
    {
     "data": {
      "text/html": [
       "<div>\n",
       "<table border=\"1\" class=\"dataframe\">\n",
       "  <thead>\n",
       "    <tr style=\"text-align: right;\">\n",
       "      <th></th>\n",
       "      <th>province</th>\n",
       "      <th>city</th>\n",
       "      <th>total</th>\n",
       "      <th>category</th>\n",
       "    </tr>\n",
       "  </thead>\n",
       "  <tbody>\n",
       "    <tr>\n",
       "      <th>0</th>\n",
       "      <td>����Ư����</td>\n",
       "      <td>������</td>\n",
       "      <td>38476</td>\n",
       "      <td>��ü</td>\n",
       "    </tr>\n",
       "    <tr>\n",
       "      <th>1</th>\n",
       "      <td>����Ư����</td>\n",
       "      <td>���ʱ�</td>\n",
       "      <td>23099</td>\n",
       "      <td>��ü</td>\n",
       "    </tr>\n",
       "    <tr>\n",
       "      <th>2</th>\n",
       "      <td>����Ư����</td>\n",
       "      <td>���ı�</td>\n",
       "      <td>19646</td>\n",
       "      <td>��ü</td>\n",
       "    </tr>\n",
       "    <tr>\n",
       "      <th>3</th>\n",
       "      <td>����Ư����</td>\n",
       "      <td>��������</td>\n",
       "      <td>17657</td>\n",
       "      <td>��ü</td>\n",
       "    </tr>\n",
       "    <tr>\n",
       "      <th>4</th>\n",
       "      <td>����Ư����</td>\n",
       "      <td>�߱�</td>\n",
       "      <td>17627</td>\n",
       "      <td>��ü</td>\n",
       "    </tr>\n",
       "  </tbody>\n",
       "</table>\n",
       "</div>"
      ],
      "text/plain": [
       "    province      city  total category\n",
       "0  ����Ư����    ������  38476      ��ü\n",
       "1  ����Ư����     ���ʱ�  23099      ��ü\n",
       "2  ����Ư����     ���ı�  19646      ��ü\n",
       "3  ����Ư����  ��������  17657      ��ü\n",
       "4  ����Ư����       �߱�  17627      ��ü"
      ]
     },
     "execution_count": 10,
     "metadata": {},
     "output_type": "execute_result"
    }
   ],
   "source": [
    "df_total.head()"
   ]
  },
  {
   "cell_type": "code",
   "execution_count": 11,
   "metadata": {
    "collapsed": false
   },
   "outputs": [],
   "source": [
    "total_lst = df_total['total'].tolist()\n",
    "top_business_lst = df_top_business['total'].tolist()\n",
    "\n",
    "# Individual sectors are as follows\n",
    "medical_lst = df_medical['total'].tolist()\n",
    "education_lst = df_education['total'].tolist()\n",
    "food_lst = df_food['total'].tolist()\n",
    "wholesale_lst = df_wholesale['total'].tolist()\n",
    "service_lst = df_service['total'].tolist()"
   ]
  },
  {
   "cell_type": "markdown",
   "metadata": {},
   "source": [
    "#### Let's gain insights about data through statistics and visualizations"
   ]
  },
  {
   "cell_type": "code",
   "execution_count": 12,
   "metadata": {
    "collapsed": false
   },
   "outputs": [
    {
     "name": "stdout",
     "output_type": "stream",
     "text": [
      "Overview\n",
      "\n",
      "Max: 38476\n",
      "Min: 9621\n",
      "Max - Min: 28855\n",
      "Average: 14787\n",
      "Standard deviation: 5857\n",
      "65% range: [20644, 8929] (one standard deviation)\n",
      "95% range: [26502, 3071] (two standard deviation)\n"
     ]
    }
   ],
   "source": [
    "# Brief statistics\n",
    "\n",
    "print 'Overview\\n'\n",
    "print 'Max: ' + str(df_total['total'].max())\n",
    "print 'Min: ' + str(df_total['total'].min())\n",
    "print 'Max - Min: ' + str( df_total['total'].max() - df_total['total'].min() )\n",
    "print 'Average: ' + str(int(df_total['total'].mean()))\n",
    "print 'Standard deviation: ' + str( int(df_total['total'].std()) )\n",
    "sixty_five_percent = [int(df_total['total'].mean() + df_total['total'].std()), int(df_total['total'].mean() - df_total['total'].std())]\n",
    "ninety_five_percent = [int(df_total['total'].mean() + 2*df_total['total'].std()), int(df_total['total'].mean() - 2*df_total['total'].std())]\n",
    "print '65% range: ' + str(sixty_five_percent) + ' (one standard deviation)'\n",
    "print '95% range: ' + str(ninety_five_percent) + ' (two standard deviation)'"
   ]
  },
  {
   "cell_type": "code",
   "execution_count": 13,
   "metadata": {
    "collapsed": false
   },
   "outputs": [
    {
     "data": {
      "image/png": "[encoded data removed]",
      "text/plain": [
       "<matplotlib.figure.Figure at 0x10bd0a310>"
      ]
     },
     "metadata": {},
     "output_type": "display_data"
    }
   ],
   "source": [
    "plt.hist(total_lst,bins=100)\n",
    "plt.xlabel('Revenue (Won)')\n",
    "plt.ylabel('Frequency')\n",
    "plt.title(r'$\\mathrm{Total\\ Revenue\\ Distribution:}\\ \\mu=14787,\\ \\sigma=5857$')\n",
    "plt.axis([5000, 40000, 0, 4])\n",
    "\n",
    "plt.show()"
   ]
  },
  {
   "cell_type": "markdown",
   "metadata": {},
   "source": [
    "#### A: The above histogram shows that there is great polarization (양극화) on highest earning district ('kangnam') and less earning districts--note one bar in the range (35000,40000) and the rest in the range (7000,25000)."
   ]
  },
  {
   "cell_type": "code",
   "execution_count": 14,
   "metadata": {
    "collapsed": false
   },
   "outputs": [
    {
     "name": "stdout",
     "output_type": "stream",
     "text": [
      "Total number of districts: 25\n"
     ]
    }
   ],
   "source": [
    "print 'Total number of districts: ' + str(len(total_lst))"
   ]
  },
  {
   "cell_type": "code",
   "execution_count": 15,
   "metadata": {
    "collapsed": false
   },
   "outputs": [
    {
     "name": "stdout",
     "output_type": "stream",
     "text": [
      "Revenue by top 6 districtss:    52169\n",
      "Revenue by bottom 19 districts: 53149\n"
     ]
    }
   ],
   "source": [
    "top_6_dists = 0\n",
    "bottom_19_dists = 0\n",
    "\n",
    "for i in range(0,6):\n",
    "    top_6_dists = top_6_dists + top_business_lst[i]\n",
    "    \n",
    "for j in range(7,25):\n",
    "    bottom_19_dists = bottom_19_dists + top_business_lst[j]\n",
    "    \n",
    "print 'Revenue by top 6 districtss:    ' + str(top_6_dists)\n",
    "print 'Revenue by bottom 19 districts: ' + str(bottom_19_dists)\n"
   ]
  },
  {
   "cell_type": "markdown",
   "metadata": {},
   "source": [
    "#### A: This illustrates that top 6 districts make as much as the remaining 19 districts"
   ]
  },
  {
   "cell_type": "markdown",
   "metadata": {},
   "source": [
    "#### Let's see which business sectors contribute the most on these districts"
   ]
  },
  {
   "cell_type": "code",
   "execution_count": 16,
   "metadata": {
    "collapsed": false
   },
   "outputs": [
    {
     "name": "stdout",
     "output_type": "stream",
     "text": [
      "\n",
      "\n",
      "Get data before visualizing to identify which business contributes the most\n",
      "\n",
      "Education Max: 6486\n",
      "Education Min: 977\n",
      "\n",
      "Medical Max: 23442\n",
      "Medical Min: 3901\n",
      "\n",
      "Food Max: 17872\n",
      "Food Min: 4988\n",
      "\n",
      "Wholesale Max: 22154\n",
      "Wholesale Min: 6087\n"
     ]
    }
   ],
   "source": [
    "print\n",
    "print\n",
    "print 'Get data before visualizing to identify which business contributes the most\\n'\n",
    "\n",
    "print 'Education Max: ' + str(df_education['total'].max())\n",
    "print 'Education Min: ' + str(df_education['total'].min())\n",
    "print\n",
    "print 'Medical Max: ' + str(df_medical['total'].max())\n",
    "print 'Medical Min: ' + str(df_medical['total'].min())\n",
    "print\n",
    "print 'Food Max: ' + str(df_food['total'].max())\n",
    "print 'Food Min: ' + str(df_food['total'].min())\n",
    "print\n",
    "print 'Wholesale Max: ' + str(df_wholesale['total'].max())\n",
    "print 'Wholesale Min: ' + str(df_wholesale['total'].min())"
   ]
  },
  {
   "cell_type": "markdown",
   "metadata": {},
   "source": [
    "#### A: From the above, we can see that medical sector is the highest earning sector, followed by wholesale, food, and education sector."
   ]
  },
  {
   "cell_type": "code",
   "execution_count": 17,
   "metadata": {
    "collapsed": true
   },
   "outputs": [],
   "source": [
    "from numpy import array"
   ]
  },
  {
   "cell_type": "code",
   "execution_count": 18,
   "metadata": {
    "collapsed": false
   },
   "outputs": [],
   "source": [
    "# create multi-dimensional matrix which is the format we need for visualizing in histogram\n",
    "\n",
    "multi_lst = [education_lst,medical_lst,food_lst,wholesale_lst,service_lst]\n",
    "arr = array(multi_lst)\n",
    "arr = np.transpose(arr)"
   ]
  },
  {
   "cell_type": "code",
   "execution_count": 19,
   "metadata": {
    "collapsed": false
   },
   "outputs": [
    {
     "data": {
      "image/png": "[encoded data removed]",
      "text/plain": [
       "<matplotlib.figure.Figure at 0x10bcae7d0>"
      ]
     },
     "metadata": {},
     "output_type": "display_data"
    }
   ],
   "source": [
    "n_bins = 10\n",
    "\n",
    "fig, axes = plt.subplots(nrows=1, ncols=2,figsize=(10,5))\n",
    "ax0, ax1 = axes.flat\n",
    "\n",
    "colors = ['red', 'grey', 'lime','blue','yellow']\n",
    "labels = ['education','medical','food','wholesale','service']\n",
    "\n",
    "ax0.hist(arr, n_bins, normed=0, histtype='bar', color=colors, label=labels)\n",
    "ax0.set_xlabel('Revenue (won)')\n",
    "ax0.set_ylabel('Frequency')\n",
    "ax0.legend(prop={'size': 10})\n",
    "ax0.set_title('Sector distribution')\n",
    "\n",
    "ax1.hist(arr, n_bins, normed=0, histtype='bar', stacked=True)\n",
    "ax1.set_xlabel('Revenue (won)')\n",
    "ax1.set_ylabel('Frequency')\n",
    "ax1.set_title('Stacked bar (extension from \\'Sector distribution\\')')\n",
    "\n",
    "plt.tight_layout(pad=0.8, w_pad=0.8, h_pad=1.0)\n",
    "plt.show()"
   ]
  },
  {
   "cell_type": "markdown",
   "metadata": {},
   "source": [
    "#### E: The histogram above on the left demonstrates 'sector distribution.' \n",
    "\n",
    "#### A: From 'sector distribution,' we can see that 'education (red)', 'service (yellow)' sectors are concentrated in  lower ange than other sectors. Generally speaking, the top two sectors that seem to belong to higher revenue range are 'wholesale (blue)' and 'food (green).' The 'medical (grey)' sector seemes to be in-between. \n",
    "\n",
    "#### A: The histogram on the right ('Stacked bar' histogram) makes it clear that most of the revenues are less than 15,000 won."
   ]
  },
  {
   "cell_type": "markdown",
   "metadata": {},
   "source": []
  },
  {
   "cell_type": "markdown",
   "metadata": {},
   "source": []
  },
  {
   "cell_type": "markdown",
   "metadata": {},
   "source": [
    "Note that we have not analyzed individual districts yet. Let's see what kind of insights we can get from them."
   ]
  },
  {
   "cell_type": "markdown",
   "metadata": {},
   "source": [
    "#### Note: As mentioned in the early part of assignment, Korean characters are broken in IPython Notebook. Solutions were sought after, but after several attempts with no significant success, I had to resort to 'hard-coding' the list of districts in order to save time (as shown below)."
   ]
  },
  {
   "cell_type": "code",
   "execution_count": 20,
   "metadata": {
    "collapsed": false
   },
   "outputs": [],
   "source": [
    "# since the ordering of districts are different for each business sector, I hard-coded the list of districts\n",
    "\n",
    "dist_total_section = ['kangnam','seocho','songpa','yeongdeungpo','jung','mapo','jongro','kangdong','kangseo','yangcheon','nowon','kwangjin','guro','kwanak','eunpyeong','yongsan','seongdong','dongdaemun','dongjak','seongbuk','joongrang','seodaemun','geumcheon','dobong','kangbuk']\n",
    "dist_service_section = ['kangnam','seocho','songpa','mapo','kangseo','yeongdeungpo','kwanak','kwangjin','kangdong','jung','nowon','guro','yangcheon','seodaemun','eunpyeong','dongjak','seongbuk','joongrang','jongro','dongdaemun','kangbuk','seongdong','yongsan','geumcheon','dobong']\n",
    "dist_food_section = ['kangnam','seocho','jung','jongro','mapo','yeongdeungpo','songpa','yongsan','kangseo','kangdong','kwanak','kwangjin','yangcheon','nowon','guro','dongjak','dongdaemun','seodaemun','eunpyeong','seongbuk','seongdong','geumcheon','joongrang','kangbuk','dobong']\n",
    "dist_wholesale_section = ['kangnam','seocho','yeongdeungpo','jung','jongro','seongdong','mapo','yangcheon','kangseo','kangdong','guro','nowon','kwangjin','eunpeyong','dongdaemun','yongsan','dongjak','joongrang','geumcheon','seongbuk','kwanak','dobong','seodaemun','kangbuk']\n",
    "dist_medical_section = ['kangnam','seocho','songpa','yeongdeungpo','kangdong','mapo','nowon','kwanak','kangseo','yangcheon','eunpyeong','jung','dongjak','guro','dongdaemun','jongro','seongbuk','kwangjin','seodaemun','seongdong','joongrang','yongsan','kangbuk','geumcheon','dobong']\n",
    "dist_education_section = ['kangnam','seocho','yangcheon','songpa','nowon','kangseo','kangdong','mapo','dongjak','eunpyeong','yeongdeungpo','seodaemun','dongdaemun','kwangjin','kwanak','seongbuk','guro','jongro','dobong','yongsan','joongrang','seongdong','kangbuk','geumcheon','jung']"
   ]
  },
  {
   "cell_type": "markdown",
   "metadata": {},
   "source": [
    "Let's transform this into matrix format which makes it easier for us to manipulate"
   ]
  },
  {
   "cell_type": "code",
   "execution_count": 21,
   "metadata": {
    "collapsed": false
   },
   "outputs": [],
   "source": [
    "# put lists into list\n",
    "districts = [dist_service_section, dist_food_section, dist_wholesale_section, dist_medical_section, dist_education_section]\n",
    "# transform list into numpy.array\n",
    "np_dists = np.array(districts)"
   ]
  },
  {
   "cell_type": "markdown",
   "metadata": {},
   "source": [
    "Let's define a function that allows us to see top n districts in terms of total revenue and each sectors' revenue"
   ]
  },
  {
   "cell_type": "code",
   "execution_count": 22,
   "metadata": {
    "collapsed": false
   },
   "outputs": [],
   "source": [
    "def print_top_districts(num):\n",
    "    print 'Total Revenue \\n' + str(dist_total_section[0:num])\n",
    "    print\n",
    "    print 'Service \\n' + str(np_dists[0][0:num])\n",
    "    print 'Food \\n' + str(np_dists[1][0:num])\n",
    "    print 'Wholesale \\n' + str(np_dists[2][0:num])\n",
    "    print 'Medical \\n' + str(np_dists[3][0:num])\n",
    "    print 'Education \\n' + str(np_dists[4][0:num])"
   ]
  },
  {
   "cell_type": "code",
   "execution_count": 25,
   "metadata": {
    "collapsed": false
   },
   "outputs": [
    {
     "name": "stdout",
     "output_type": "stream",
     "text": [
      "Total Revenue \n",
      "['kangnam', 'seocho', 'songpa', 'yeongdeungpo', 'jung']\n",
      "\n",
      "Service \n",
      "['kangnam', 'seocho', 'songpa', 'mapo', 'kangseo']\n",
      "Food \n",
      "['kangnam', 'seocho', 'jung', 'jongro', 'mapo']\n",
      "Wholesale \n",
      "['kangnam', 'seocho', 'yeongdeungpo', 'jung', 'jongro']\n",
      "Medical \n",
      "['kangnam', 'seocho', 'songpa', 'yeongdeungpo', 'kangdong']\n",
      "Education \n",
      "['kangnam', 'seocho', 'yangcheon', 'songpa', 'nowon']\n"
     ]
    }
   ],
   "source": [
    "# check top n districts in terms of total revenue and each sectors' revenue\n",
    "print_top_districts(5)"
   ]
  },
  {
   "cell_type": "markdown",
   "metadata": {},
   "source": [
    "One information we have not looked at yet is top business (and its associated area). Let's take a look at it in order to finally formulate hypothesis from the insights gathered so far."
   ]
  },
  {
   "cell_type": "code",
   "execution_count": 18,
   "metadata": {
    "collapsed": false
   },
   "outputs": [
    {
     "name": "stdout",
     "output_type": "stream",
     "text": [
      "province city area_name business_type total rank\n",
      "0 서울특별시 강남구 강남역 아래 컴퓨터/주변기기 13598  1\n",
      "1 서울특별시 강남구 압구정역 성형외과 11123  2\n",
      "2 서울특별시 강남구 강남역 위 성형외과 9635  3\n",
      "3 서울특별시 종로구 종각역 인근 서적/도서 6393  1\n",
      "4 서울특별시 강남구 신사 논현역 성형외과 6140  4\n",
      "5 서울특별시 종로구 광화문역 인근 서적/도서 5280  2\n",
      "6 서울특별시 성동구 성수역주변 문구/팬시 4242  1\n",
      "7 서울특별시 강남구 학동사거리 부근 성형외과 3931  5\n",
      "8 서울특별시 강남구 강남역 위 치과 3895  6\n",
      "9 서울특별시 강남구 강남역 위 피부과 3631  7\n",
      "10 서울특별시 마포구 마포역 잡화 3561  1\n",
      "11 서울특별시 구로구 고대구로병원사거리 인근 꽃집 3441  1\n",
      "12 서울특별시 성동구 성수역주변 슈퍼마켓(일반) 3371  2\n",
      "13 서울특별시 강남구 압구정역 치과 3314  8\n",
      "14 서울특별시 종로구 종각역 인근 한정식 3036  3\n",
      "15 서울특별시 강남구 강남역 아래 치과 2986  9\n",
      "16 서울특별시 용산구 한남동 꽃집 2700  1\n",
      "17 서울특별시 강남구 압구정역 피부과 2668  10\n",
      "18 서울특별시 금천구 협진교차로 인근 슈퍼마켓(일반) 2555  1\n",
      "19 서울특별시 관악구 서울대역 주변상권 일반병원 2505  1\n",
      "20 서울특별시 노원구 노원역 일반병원 2410  1\n",
      "21 서울특별시 강동구 고덕역인근 슈퍼마켓(일반) 2326  1\n",
      "22 서울특별시 서초구 교대역 치과 2317  1\n",
      "23 서울특별시 종로구 종각역 인근 치과 2274  4\n",
      "24 서울특별시 서초구 서울교대역-남부터미널역주변지역 자동차경정비 2228  2\n",
      "25 서울특별시 성동구 성수역주변 자동차경정비 2199  3\n",
      "26 서울특별시 서초구 반포_고속터미널주변 주유소 2165  3\n",
      "27 서울특별시 강동구 천호역 슈퍼마켓(일반) 2071  2\n",
      "28 서울특별시 서초구 서울교대역-남부터미널역주변지역 주유소 2063  4\n",
      "29 서울특별시 서초구 교대역 대입학원 2023  5\n",
      "30 서울특별시 관악구 서울대역 주변상권 치과 2017  2\n",
      "31 서울특별시 중구 신당, 동대문 운동장역 부근 이동통신 2010  1\n",
      "32 서울특별시 노원구 중계그린공원앞 슈퍼마켓(일반) 1982  2\n",
      "33 서울특별시 종로구 안국역 인근 한정식 1968  5\n",
      "34 서울특별시 성동구 답십리역-용답역주변 일반병원 1960  4\n",
      "35 서울특별시 노원구 노원역 피부과 1959  3\n",
      "36 서울특별시 구로구 구로디지털공단역 인근 일반병원 1942  2\n",
      "37 서울특별시 강동구 천호역 치과 1941  3\n",
      "38 서울특별시 동작구 사당역 치과 1866  1\n",
      "39 서울특별시 종로구 종각역 인근 분식 1866  6\n",
      "40 서울특별시 서초구 교대역 한정식 1862  6\n",
      "41 서울특별시 중구 서울역 회현역 주변 안경 1854  2\n",
      "42 서울특별시 금천구 시흥유통상가 자동차경정비 1848  2\n",
      "43 서울특별시 송파구 삼전동 자동차경정비 1840  1\n",
      "44 서울특별시 중구 신당, 동대문 운동장역 부근 남성의류 1838  3\n",
      "45 서울특별시 중구 신당, 동대문 운동장역 부근 편의점 1837  4\n",
      "46 서울특별시 강서구 가양동 슈퍼마켓(일반) 1789  1\n",
      "47 서울특별시 도봉구 창동역 슈퍼마켓(일반) 1782  1\n",
      "48 서울특별시 서대문구 신촌역 치과 1761  1\n",
      "49 서울특별시 종로구 종각역 인근 정통호프 1734  7\n",
      "50 서울특별시 종로구 종각역 인근 스테이크 전문점 1719  8\n",
      "51 서울특별시 마포구 마포역 치과 1711  2\n",
      "52 서울특별시 영등포구 영등포 시장역 인근 일반병원 1698  1\n",
      "53 서울특별시 서대문구 신촌역 피부과 1685  2\n",
      "54 서울특별시 중구 명동역 주변 남성의류 1671  5\n",
      "55 서울특별시 서초구 방배동_내방역북쪽지역 자동차경정비 1666  7\n",
      "56 서울특별시 중구 명동역 주변 일반의류 1657  6\n",
      "57 서울특별시 종로구 종각역 인근 편의점 1634  9\n",
      "58 서울특별시 노원구 노원역 성형외과 1628  4\n",
      "59 서울특별시 서초구 서울교대역-남부터미널역주변지역 한정식 1620  8\n",
      "60 서울특별시 서초구 서울교대역-남부터미널역주변지역 치과 1616  9\n",
      "61 서울특별시 서초구 총신대 치과 1606  10\n",
      "62 서울특별시 중구 을지로4가역 인근 조명/전기용품 1606  7\n",
      "63 서울특별시 종로구 광화문역 인근 한정식 1602  10\n",
      "64 서울특별시 노원구 수락산역 가전제품 1598  5\n",
      "65 서울특별시 금천구 시흥유통상가 슈퍼마켓(일반) 1587  3\n",
      "66 서울특별시 송파구 잠실역 치과 1581  2\n",
      "67 서울특별시 노원구 노원역 치과 1576  6\n",
      "68 서울특별시 관악구 신림역 주변상권 치과 1567  3\n",
      "69 서울특별시 중구 명동역 주변 피부과 1564  8\n",
      "70 서울특별시 양천구 목6단지 패밀리레스토랑 1560  1\n",
      "71 서울특별시 구로구 고척공구상가 남성의류 1560  3\n",
      "72 서울특별시 송파구 신천역 일반병원 1546  3\n",
      "73 서울특별시 송파구 신천역 치과 1511  4\n",
      "74 서울특별시 중랑구 중량위딩, 우림시장 가전제품 1509  1\n",
      "75 서울특별시 동작구 노량진 주유소 1501  2\n",
      "76 서울특별시 동작구 사당역 한정식 1500  3\n",
      "77 서울특별시 광진구 구의역 일반병원 1499  1\n",
      "78 서울특별시 강동구 길동역 일반병원 1492  4\n",
      "79 서울특별시 용산구 용산역앞 약국 1484  2\n",
      "80 서울특별시 용산구 용산전자 인근 컴퓨터/주변기기 1479  3\n",
      "81 서울특별시 서대문구 신촌역 약국 1474  3\n",
      "82 서울특별시 중구 명동역 주변 치과 1466  9\n",
      "83 서울특별시 마포구 홍대입구역 치과 1452  3\n",
      "84 서울특별시 용산구 이태원 스테이크 전문점 1452  4\n",
      "85 서울특별시 강북구 수유역 치과 1442  1\n",
      "86 서울특별시 서대문구 신촌역 한정식 1438  4\n",
      "87 서울특별시 마포구 홍대입구역 한정식 1416  4\n",
      "88 서울특별시 마포구 마포역 한정식 1414  5\n",
      "89 서울특별시 중구 을지로4가역 인근 한정식 1414  10\n",
      "90 서울특별시 마포구 홍대입구역 남성의류 1389  6\n",
      "91 서울특별시 서대문구 신촌역 일반병원 1387  5\n",
      "92 서울특별시 양천구 목동역2 대입학원 1382  2\n",
      "93 서울특별시 동작구 사당역 주유소 1380  4\n",
      "94 서울특별시 동작구 사당역 가전제품 1380  5\n",
      "95 서울특별시 광진구 잠실대교북단 주유소 1377  2\n",
      "96 서울특별시 송파구 잠실역 자동차경정비 1371  5\n",
      "97 서울특별시 마포구 합정역 일반의류 1369  7\n",
      "98 서울특별시 구로구 구로디지털공단역 인근 자동차경정비 1368  4\n",
      "99 서울특별시 영등포구 영등포 시장역 인근 한정식 1357  2\n",
      "100 서울특별시 송파구 잠실역 한정식 1356  6\n",
      "101 서울특별시 관악구 신림역 주변상권 한정식 1356  4\n",
      "102 서울특별시 중랑구 상봉역 자동차경정비 1353  2\n",
      "103 서울특별시 서대문구 신촌역 성형외과 1343  6\n",
      "104 서울특별시 양천구 목동역1 치과 1342  3\n",
      "105 서울특별시 송파구 신천역 한정식 1334  7\n",
      "106 서울특별시 노원구 공릉역 자동차경정비 1320  7\n",
      "107 서울특별시 송파구 가락시장역부근 일반의류 1319  8\n",
      "108 서울특별시 강서구 가양사거리 주유소 1301  2\n",
      "109 서울특별시 은평구 연신내역 치과 1278  1\n",
      "110 서울특별시 성동구 왕십리역-상왕십리역주변 치과 1275  5\n",
      "111 서울특별시 송파구 삼전동 치과 1272  9\n",
      "112 서울특별시 용산구 남영동 잡화 1267  5\n",
      "113 서울특별시 송파구 삼전동 분식 1266  10\n",
      "114 서울특별시 관악구 서울대역 주변상권 한정식 1263  5\n",
      "115 서울특별시 성동구 성수역주변 치과 1257  6\n",
      "116 서울특별시 동작구 신대방삼거리역 남성의류 1250  6\n",
      "117 서울특별시 노원구 공릉역 가전제품 1246  8\n",
      "118 서울특별시 서대문구 신촌역 정통호프 1235  7\n",
      "119 서울특별시 성동구 성수역주변 한정식 1230  7\n",
      "120 서울특별시 강동구 길동역 룸/단란주점 1227  5\n",
      "121 서울특별시 노원구 수락산역 잡화 1227  9\n",
      "122 서울특별시 영등포구 신대방역 북측 주변 자동차경정비 1214  3\n",
      "123 서울특별시 도봉구 창동역 가전제품 1212  2\n",
      "124 서울특별시 마포구 홍대입구역 편의점 1211  8\n",
      "125 서울특별시 양천구 스포츠조선뒤 슈퍼마켓(일반) 1201  4\n",
      "126 서울특별시 용산구 남영동 분식 1200  6\n",
      "127 서울특별시 광진구 건대입구역 정통호프 1197  3\n",
      "128 서울특별시 구로구 구로5동 사거리 인근 서적/도서 1188  5\n",
      "129 서울특별시 마포구 홍대입구역 정통호프 1181  9\n",
      "130 서울특별시 동작구 사당역 정통호프 1175  7\n",
      "131 서울특별시 양천구 목6단지 대입학원 1163  5\n",
      "132 서울특별시 영등포구 영등포 시장역 인근 치과 1156  4\n",
      "133 서울특별시 강동구 천호역 피부과 1154  6\n",
      "134 서울특별시 강동구 고덕역인근 치과 1151  7\n",
      "135 서울특별시 강서구 강서구청 주변 치과 1145  3\n",
      "136 서울특별시 구로구 개봉본동 인근 가전제품 1141  6\n",
      "137 서울특별시 관악구 서울대역 주변상권 편의점 1139  6\n",
      "138 서울특별시 중랑구 중량위딩, 우림시장 치과 1135  3\n",
      "139 서울특별시 노원구 노원역 한정식 1134  10\n",
      "140 서울특별시 영등포구 영등포구청역 인근 자동차경정비 1132  5\n",
      "141 서울특별시 영등포구 영등포 시장역 인근 분식 1130  6\n",
      "142 서울특별시 양천구 오목교역 치과 1130  6\n",
      "143 서울특별시 강동구 길동역 치과 1129  8\n",
      "144 서울특별시 관악구 신림역 주변상권 화장품 1125  7\n",
      "145 서울특별시 강북구 수유역 주유소 1121  2\n",
      "146 서울특별시 용산구 이태원 한정식 1119  7\n",
      "147 서울특별시 성북구 성심여대역 치과 1119  1\n",
      "148 서울특별시 관악구 신림역 주변상권 정통호프 1115  8\n",
      "149 서울특별시 동작구 노량진 분식 1114  8\n",
      "150 서울특별시 관악구 신림역 주변상권 분식 1108  9\n",
      "151 서울특별시 성동구 성수역주변 분식 1107  8\n",
      "152 서울특별시 양천구 스포츠조선뒤 자동차경정비 1099  7\n",
      "153 서울특별시 성동구 뚝섬역주변 주유소 1099  9\n",
      "154 서울특별시 용산구 이태원 스포츠/등산용품 1088  8\n",
      "155 서울특별시 영등포구 영등포 시장역 인근 피부과 1087  7\n",
      "156 서울특별시 강서구 화곡역 치과 1083  4\n",
      "157 서울특별시 관악구 신림역 주변상권 편의점 1082  10\n",
      "158 서울특별시 은평구 불광역 치과 1075  2\n",
      "159 서울특별시 서대문구 신촌역 대입학원 1073  8\n",
      "160 서울특별시 서대문구 신촌역 편의점 1072  9\n",
      "161 서울특별시 강서구 화곡역 일반병원 1064  5\n",
      "162 서울특별시 성동구 답십리역-용답역주변 주유소 1060  10\n",
      "163 서울특별시 양천구 목동로데오거리 일반병원 1058  8\n",
      "164 서울특별시 구로구 고대구로병원사거리 인근 약국 1056  7\n",
      "165 서울특별시 광진구 군자역 치과 1055  4\n",
      "166 서울특별시 서대문구 이대역 여성미용실 1052  10\n",
      "167 서울특별시 금천구 독산사거리 인근 치과 1051  4\n",
      "168 서울특별시 강북구 미아8동 가전제품 1048  3\n",
      "169 서울특별시 강동구 둔촌동역 치과 1048  9\n",
      "170 서울특별시 금천구 독산본동 인근 정형외과 1033  5\n",
      "171 서울특별시 강서구 강서구청 주변 정통호프 1028  6\n",
      "172 서울특별시 강서구 가양동 일반병원 1027  7\n",
      "173 서울특별시 강동구 천호역 일반병원 1026  10\n",
      "174 서울특별시 구로구 디지털 단지앞 상가 지역 일반의류 1023  8\n",
      "175 서울특별시 동작구 해군회관앞 주유소 1013  9\n",
      "176 서울특별시 양천구 스포츠조선뒤 치과 1012  9\n",
      "177 서울특별시 구로구 구로디지털공단역 인근 한정식 1010  9\n",
      "178 서울특별시 강서구 발산역 패밀리레스토랑 1009  8\n",
      "179 서울특별시 마포구 홍대입구역 커피전문점 1005  10\n",
      "180 서울특별시 성북구 성심여대역 피부과 1004  2\n",
      "181 서울특별시 강서구 강서구청 주변 한정식 996  9\n",
      "182 서울특별시 금천구 금천구청 인근 치과 995  6\n",
      "183 서울특별시 광진구 건대입구역 한정식 994  5\n",
      "184 서울특별시 강서구 화곡역 피부과 993  10\n",
      "185 서울특별시 동대문구 청량리역 한방병원 991  1\n",
      "186 서울특별시 광진구 올림픽대교북단 치과 988  6\n",
      "187 서울특별시 용산구 한남동 치과 988  9\n",
      "188 서울특별시 영등포구 영등포 시장역 인근 자동차경정비 984  8\n",
      "189 서울특별시 구로구 구로구청사거리 및 대림역 인근 가전제품 980  10\n",
      "190 서울특별시 영등포구 영등포 시장역 인근 정통호프 979  9\n",
      "191 서울특별시 은평구 연신내역 한정식 978  3\n",
      "192 서울특별시 영등포구 영등포구청역 인근 분식 978  10\n",
      "193 서울특별시 강북구 미아3동 치과 964  4\n",
      "194 서울특별시 동작구 노량진 대입학원 964  10\n",
      "195 서울특별시 은평구 은평구청 가전제품 961  4\n",
      "196 서울특별시 중랑구 중량위딩, 우림시장 주유소 959  4\n",
      "197 서울특별시 양천구 등촌사거리 치과 947  10\n",
      "198 서울특별시 도봉구 창동역 치과 938  3\n",
      "199 서울특별시 용산구 용산전자 인근 슈퍼마켓(일반) 934  10\n",
      "200 서울특별시 강북구 미아삼거리역 치과 926  5\n",
      "201 서울특별시 광진구 건대입구역 치과 916  7\n",
      "202 서울특별시 강북구 수유역 정통호프 909  6\n",
      "203 서울특별시 금천구 금천구청 인근 한정식 907  7\n",
      "204 서울특별시 강북구 수유역 한정식 898  7\n",
      "205 서울특별시 성북구 한성대입구역 가전제품 896  3\n",
      "206 서울특별시 광진구 구의역 치과 882  8\n",
      "207 서울특별시 광진구 올림픽대교북단 내과 876  9\n",
      "208 서울특별시 강북구 미아삼거리역 일반병원 854  8\n",
      "209 서울특별시 강북구 수유역 일반병원 848  9\n",
      "210 서울특별시 은평구 구산역 치과 834  5\n",
      "211 서울특별시 광진구 건대입구역 분식 834  10\n",
      "212 서울특별시 강북구 미아역 치과 827  10\n",
      "213 서울특별시 동대문구 청량리역 정육점 811  2\n",
      "214 서울특별시 은평구 은평구청 주유소 804  6\n",
      "215 서울특별시 금천구 금천구청 인근 차량물품/인테리어 792  8\n",
      "216 서울특별시 은평구 연신내역 꽃집 790  7\n",
      "217 서울특별시 중랑구 사가정역 치과 785  5\n",
      "218 서울특별시 은평구 구산역 피부과 784  8\n",
      "219 서울특별시 은평구 연신내역 피부과 784  9\n",
      "220 서울특별시 은평구 신사오거리 치과 782  10\n",
      "221 서울특별시 중랑구 중화역 주변 상권 치과 780  6\n",
      "222 서울특별시 중랑구 상봉역 치과 775  7\n",
      "223 서울특별시 동대문구 청량리역 치과 774  3\n",
      "224 서울특별시 성북구 성심여대역 일반병원 770  4\n",
      "225 서울특별시 동대문구 회기역 한정식 767  4\n",
      "226 서울특별시 동대문구 장한평1 자동차경정비 763  5\n",
      "227 서울특별시 동대문구 장한평1 슈퍼마켓(일반) 756  6\n",
      "228 서울특별시 금천구 독산사거리 인근 자동차경정비 751  9\n",
      "229 서울특별시 성북구 성심여대역 일반의류 743  5\n",
      "230 서울특별시 금천구 협진교차로 인근 자동차경정비 730  10\n",
      "231 서울특별시 성북구 성심여대역 한정식 721  6\n",
      "232 서울특별시 동대문구 회기역 약국 716  7\n",
      "233 서울특별시 동대문구 회기역 분식 712  8\n",
      "234 서울특별시 중랑구 중화구청사거리 일반의류 709  8\n",
      "235 서울특별시 중랑구 면목역 슈퍼마켓(일반) 676  9\n",
      "236 서울특별시 성북구 성심여대역 남성미용실 659  7\n",
      "237 서울특별시 성북구 성심여대역 정통호프 655  8\n",
      "238 서울특별시 중랑구 중화구청사거리 치과 653  10\n",
      "239 서울특별시 성북구 성심여대역 분식 625  9\n",
      "240 서울특별시 동대문구 장한평1 차량물품/인테리어 613  9\n",
      "241 서울특별시 도봉구 미화예식장거리 조명/전기용품 613  4\n",
      "242 서울특별시 동대문구 청량리역 일반병원 610  10\n",
      "243 서울특별시 도봉구 창동역 약국 593  5\n",
      "244 서울특별시 도봉구 쌍문역 치과 586  6\n",
      "245 서울특별시 성북구 성심여대역 패밀리레스토랑 582  10\n",
      "246 서울특별시 도봉구 미화예식장거리 치과 530  7\n",
      "247 서울특별시 도봉구 창동역 한정식 528  8\n",
      "248 서울특별시 도봉구 창동역 정통호프 487  9\n",
      "249 서울특별시 도봉구 쌍문역 분식 474  10\n"
     ]
    }
   ],
   "source": [
    "# reference\n",
    "# http://freeprog.tistory.com/10\n",
    "\n",
    "import codecs\n",
    "import csv\n",
    "\n",
    "# unicode_csv_reader(), utf_8_encoder()  \n",
    "#     --->  https://docs.python.org/2/library/csv.html 에서 제공함.\n",
    "\n",
    "def unicode_csv_reader(unicode_csv_data, dialect=csv.excel, **kwargs):\n",
    "    # csv.py doesn't do Unicode; encode temporarily as UTF-8:\n",
    "    csv_reader = csv.reader(utf_8_encoder(unicode_csv_data),\n",
    "                            dialect=dialect, **kwargs)\n",
    "    for row in csv_reader:\n",
    "        # decode UTF-8 back to Unicode, cell by cell:\n",
    "        yield [unicode(cell, 'utf-8') for cell in row]\n",
    " \n",
    "def utf_8_encoder(unicode_csv_data):\n",
    "    for line in unicode_csv_data:\n",
    "        yield line.encode('utf-8')  \n",
    "        \n",
    "data = []\n",
    "  \n",
    "with codecs.open('1_top_business.csv','r', encoding = 'euc-kr') as csvf:\n",
    "    rd = unicode_csv_reader(csvf)\n",
    "    t = next(rd)\n",
    "    for fieldname in t:\n",
    "        print fieldname,\n",
    "        \n",
    "    print\n",
    "        \n",
    "    for idx, data in enumerate(rd):\n",
    "        print idx, data[0], data[1], data[2], data[3], data[4], data[5]\n"
   ]
  },
  {
   "cell_type": "markdown",
   "metadata": {},
   "source": [
    "#### A: The above information is nice and fascinating. It shows that 7 out of top 10 businesses are all in 'kangnam,' while the remaining two are  in 'jongro' and the last one in 'seongdong.' Also, 6 out of top 10 businesses belong to 'medical' sector businesses. These are nice and detailed. To understand it in a broader sense, however, we need to conduct the same simple procedre we normally carry out--that is, statistics and visualization."
   ]
  },
  {
   "cell_type": "code",
   "execution_count": 19,
   "metadata": {
    "collapsed": false
   },
   "outputs": [
    {
     "data": {
      "text/html": [
       "<div>\n",
       "<table border=\"1\" class=\"dataframe\">\n",
       "  <thead>\n",
       "    <tr style=\"text-align: right;\">\n",
       "      <th></th>\n",
       "      <th>province</th>\n",
       "      <th>city</th>\n",
       "      <th>area_name</th>\n",
       "      <th>business_type</th>\n",
       "      <th>total</th>\n",
       "      <th>rank</th>\n",
       "    </tr>\n",
       "  </thead>\n",
       "  <tbody>\n",
       "    <tr>\n",
       "      <th>0</th>\n",
       "      <td>����Ư����</td>\n",
       "      <td>������</td>\n",
       "      <td>������ �Ʒ�</td>\n",
       "      <td>��ǻ��/�ֺ����</td>\n",
       "      <td>13598</td>\n",
       "      <td>1</td>\n",
       "    </tr>\n",
       "    <tr>\n",
       "      <th>1</th>\n",
       "      <td>����Ư����</td>\n",
       "      <td>������</td>\n",
       "      <td>�б�����</td>\n",
       "      <td>�����ܰ�</td>\n",
       "      <td>11123</td>\n",
       "      <td>2</td>\n",
       "    </tr>\n",
       "    <tr>\n",
       "      <th>2</th>\n",
       "      <td>����Ư����</td>\n",
       "      <td>������</td>\n",
       "      <td>������ ��</td>\n",
       "      <td>�����ܰ�</td>\n",
       "      <td>9635</td>\n",
       "      <td>3</td>\n",
       "    </tr>\n",
       "    <tr>\n",
       "      <th>3</th>\n",
       "      <td>����Ư����</td>\n",
       "      <td>���α�</td>\n",
       "      <td>������ �α�</td>\n",
       "      <td>����/����</td>\n",
       "      <td>6393</td>\n",
       "      <td>1</td>\n",
       "    </tr>\n",
       "    <tr>\n",
       "      <th>4</th>\n",
       "      <td>����Ư����</td>\n",
       "      <td>������</td>\n",
       "      <td>�Ż� ������</td>\n",
       "      <td>�����ܰ�</td>\n",
       "      <td>6140</td>\n",
       "      <td>4</td>\n",
       "    </tr>\n",
       "  </tbody>\n",
       "</table>\n",
       "</div>"
      ],
      "text/plain": [
       "    province    city   area_name business_type  total  rank\n",
       "0  ����Ư����  ������  ������ �Ʒ�  ��ǻ��/�ֺ����  13598     1\n",
       "1  ����Ư����  ������     �б�����       �����ܰ�  11123     2\n",
       "2  ����Ư����  ������   ������ ��       �����ܰ�   9635     3\n",
       "3  ����Ư����   ���α�  ������ �α�     ����/����   6393     1\n",
       "4  ����Ư����  ������  �Ż� ������       �����ܰ�   6140     4"
      ]
     },
     "execution_count": 19,
     "metadata": {},
     "output_type": "execute_result"
    }
   ],
   "source": [
    "top_business = pd.read_csv('1_top_business.csv')\n",
    "top_business.head()"
   ]
  },
  {
   "cell_type": "code",
   "execution_count": 20,
   "metadata": {
    "collapsed": false
   },
   "outputs": [
    {
     "name": "stdout",
     "output_type": "stream",
     "text": [
      "Top business statistics\n",
      "\n",
      "Mean: 1530\n",
      "Max: 13598\n",
      "Min: 474\n",
      "Standard deviation: 1369\n",
      "65%: [0, 2899]\n",
      "95%: [0, 4268]\n",
      "99%: [0, 5637]\n",
      "Total businesses: 250\n",
      "\n",
      "Top 10 business revenue \n",
      "0    13598\n",
      "1    11123\n",
      "2     9635\n",
      "3     6393\n",
      "4     6140\n",
      "5     5280\n",
      "6     4242\n",
      "7     3931\n",
      "8     3895\n",
      "9     3631\n",
      "Name: total, dtype: int64\n"
     ]
    }
   ],
   "source": [
    "top_business_revenue = top_business['total']\n",
    "print 'Top business statistics'\n",
    "print\n",
    "print 'Mean: ' + str(int(top_business_revenue.mean()))\n",
    "print 'Max: ' + str(top_business_revenue.max())\n",
    "print 'Min: ' + str(top_business_revenue.min())\n",
    "print 'Standard deviation: ' + str(int(top_business_revenue.std()))\n",
    "print '65%: ' + str([0, 1530+1369])\n",
    "print '95%: ' + str([0,1530+1369*2])\n",
    "print '99%: ' + str([0,1530+1369*3])\n",
    "print 'Total businesses: ' + str(len(top_business_revenue))\n",
    "print\n",
    "print 'Top 10 business revenue \\n' + str(top_business_revenue[0:10])"
   ]
  },
  {
   "cell_type": "markdown",
   "metadata": {},
   "source": [
    "#### A: One can see that if business makes more than 5,637, then it belongs to top 1%. "
   ]
  },
  {
   "cell_type": "markdown",
   "metadata": {},
   "source": [
    "Let's see whether these business revenues are polarized"
   ]
  },
  {
   "cell_type": "code",
   "execution_count": 21,
   "metadata": {
    "collapsed": false
   },
   "outputs": [
    {
     "name": "stdout",
     "output_type": "stream",
     "text": [
      "\n",
      "\n",
      "Revenue by top 1% (6 businesses):        46889\n",
      "Revenue by bottom 99% (244 businesses): 330433\n",
      "\n",
      "\n",
      "Revenue by top 10%(25 businesses):      109560\n",
      "Revenue by bottom 90% (225 businesses): 270843\n",
      "\n",
      "\n",
      "Revenue by top 28%(70 businesses):      190329\n",
      "Revenue by bottom 72% (180 businesses): 190713\n"
     ]
    }
   ],
   "source": [
    "top_1_percent_revenue = 0\n",
    "bottom_99_percent_revenue = 0\n",
    "\n",
    "for i in range(0,5):\n",
    "    top_1_percent_revenue = top_1_percent_revenue + top_business_revenue[i]\n",
    "    \n",
    "for j in range(6,250):\n",
    "    bottom_99_percent_revenue = bottom_99_percent_revenue + top_business_revenue[j]\n",
    "    \n",
    "print \n",
    "print\n",
    "print 'Revenue by top 1% (6 businesses):        ' + str(top_1_percent_revenue)\n",
    "print 'Revenue by bottom 99% (244 businesses): ' + str(bottom_99_percent_revenue)\n",
    "\n",
    "print\n",
    "print\n",
    "top_10_percent_revenue = 0\n",
    "bottom_90_percent_revenue = 0\n",
    "\n",
    "for i in range(0,25):\n",
    "    top_10_percent_revenue = top_10_percent_revenue + top_business_revenue[i]\n",
    "    \n",
    "for j in range(26,250):\n",
    "    bottom_90_percent_revenue = bottom_90_percent_revenue + top_business_revenue[j]\n",
    "    \n",
    "print 'Revenue by top 10%(25 businesses):      ' + str(top_10_percent_revenue)\n",
    "print 'Revenue by bottom 90% (225 businesses): ' + str(bottom_90_percent_revenue)\n",
    "\n",
    "print\n",
    "print\n",
    "top_28_percent_revenue = 0\n",
    "bottom_72_percent_revenue = 0\n",
    "\n",
    "for i in range(0,70):\n",
    "    top_28_percent_revenue = top_28_percent_revenue + top_business_revenue[i]\n",
    "    \n",
    "for j in range(71,250):\n",
    "    bottom_72_percent_revenue = bottom_72_percent_revenue + top_business_revenue[j]\n",
    "    \n",
    "print 'Revenue by top 28%(70 businesses):      ' + str(top_28_percent_revenue)\n",
    "print 'Revenue by bottom 72% (180 businesses): ' + str(bottom_72_percent_revenue)\n",
    "\n"
   ]
  },
  {
   "cell_type": "markdown",
   "metadata": {},
   "source": [
    "#### A: The above analysis shows that top 30% of all the businesses earn as much as 72% of the businesses."
   ]
  },
  {
   "cell_type": "markdown",
   "metadata": {},
   "source": [
    "Note: Can this data be used to argue that businesses are polarized?"
   ]
  },
  {
   "cell_type": "code",
   "execution_count": 22,
   "metadata": {
    "collapsed": false
   },
   "outputs": [
    {
     "data": {
      "image/png": "[encoded data removed]",
      "text/plain": [
       "<matplotlib.figure.Figure at 0x10e353950>"
      ]
     },
     "metadata": {},
     "output_type": "display_data"
    }
   ],
   "source": [
    "plt.hist(top_business_revenue, bins=50)\n",
    "plt.xlabel('Revenue (won)')\n",
    "plt.ylabel('Frequency')\n",
    "\n",
    "# plt.title(r'$\\mathrm{Total\\ Revenue\\ Distribution:}\\ \\mu=14787,\\ \\sigma=1369$')\n",
    "\n",
    "plt.title(r'$\\mathrm{Top\\ Business:}\\ \\mu=1530,\\ \\sigma=1369$')\n",
    "plt.show()"
   ]
  },
  {
   "cell_type": "markdown",
   "metadata": {},
   "source": [
    "#### A: 6 out of 250 businesses make more than 5,000--this makes these 6 businesses top 1%. The remaining 244 businesses make less than 5,000. This confirms again that economic polarization is serious. "
   ]
  },
  {
   "cell_type": "markdown",
   "metadata": {},
   "source": [
    "Now that we have analyzed quite a bit about our dataset. Let's move on to formulating a hypothesis."
   ]
  },
  {
   "cell_type": "markdown",
   "metadata": {},
   "source": [
    "We approach this process by first enumerating some of the insights or information we have gathered so far, because these information will work collectively to provide us a topic. They are as follows."
   ]
  },
  {
   "cell_type": "markdown",
   "metadata": {},
   "source": [
    "1. Economic polarization in districts (e.g. 'kangnam', 'seocho' vs rest, top 6 districts vs bottom 19 districts)\n",
    "2. Economic polarization in businesses (\"can 30 % vs 70% be considered polarization?\")\n",
    "3. Top two sectors that generate the most revenue are 'medical' and 'wholesale.'\n",
    "4. Two sectors that contribute the least in terms of revenue generated are 'education' and 'service.'\n",
    "5. 7 out of 10 top businesses are located in 'kangnam' \n",
    "6. 6 out of 10 top businesses belong to 'medical' sector\n",
    "7. Top 2 districts that garnered the most revenues consistently in every sector were 'kangnam' and 'seocho.'"
   ]
  },
  {
   "cell_type": "markdown",
   "metadata": {},
   "source": [
    "<img sc=\"seoul.png\"> </img>"
   ]
  },
  {
   "cell_type": "markdown",
   "metadata": {},
   "source": []
  },
  {
   "cell_type": "markdown",
   "metadata": {},
   "source": [
    "- Hypthesis Formulation"
   ]
  },
  {
   "cell_type": "markdown",
   "metadata": {},
   "source": [
    "1. Two districts, 'kangnam' and 'seocho', will always fair well even when other districts are not well-off.\n",
    "2. Since 'medical' and 'wholesale' are the top two sectors that contribute the most to the overall revenue, if they are not doing well, the overall revenue will be heavily influenced. And vice versa.\n",
    "\n",
    "3. Even in times of economic hardship, top sectors will generate revenue. On the other hand, bottom sectors, such as 'education' and 'service', will be heavily influenced. (Not tested) "
   ]
  },
  {
   "cell_type": "markdown",
   "metadata": {},
   "source": []
  },
  {
   "cell_type": "markdown",
   "metadata": {},
   "source": [
    "## III. Hypothesis Testing"
   ]
  },
  {
   "cell_type": "markdown",
   "metadata": {},
   "source": [
    "In this section, we set out to explore and test whether the formulated hypothesis is true or not. For this, we will refer to data visualization system provided by geovision. (http://datablog.geovision.co.kr/index.php/analysis02/)"
   ]
  },
  {
   "cell_type": "markdown",
   "metadata": {
    "collapsed": true
   },
   "source": [
    "<img src ='images/home.png'> <img>"
   ]
  },
  {
   "cell_type": "markdown",
   "metadata": {},
   "source": [
    "### 1. First Hypothesis\n",
    "### \"Will the two districts, 'kangnam' and 'seocho', always fair well even when other districts are not well-off?\""
   ]
  },
  {
   "cell_type": "markdown",
   "metadata": {},
   "source": [
    "To check whether these two districts do okay even in times of economic trouble, I chose the month, 'October', where decrease in overall revenue (from previous month) was the highest(-12.42%), as shown in below image. However, it must be noted that the decrease could have been higher than other months, because overall revenue in the previous month was high. Indeed, this was the case for 'October.' As a result, I check the month, 'February'(-4.59%) as well. (Note that I skip 'January,' because the information about 'December' of previous year is not available and thus, the same problem can apply)"
   ]
  },
  {
   "cell_type": "markdown",
   "metadata": {},
   "source": [
    "<img src=\"images/1_0.png\"> <img>"
   ]
  },
  {
   "cell_type": "markdown",
   "metadata": {},
   "source": [
    "First, let's look at 'October' (-12.42%)"
   ]
  },
  {
   "cell_type": "markdown",
   "metadata": {},
   "source": [
    "<img src=\"images/1_1.png\"> </img>"
   ]
  },
  {
   "cell_type": "markdown",
   "metadata": {},
   "source": [
    "#### A: 'Kangnam' decreased by 18.0%. 'Seocho' decreased by 15.1%. ('Seongdong' decreased by 3.9%. 'Mapo' decreased by 18.6%.)"
   ]
  },
  {
   "cell_type": "markdown",
   "metadata": {},
   "source": [
    "#### A: This is contrary to our hypothesis, but we can still investigate further by asking, \"did 'Kangnam' and 'Seocho' see such high decrease in revenue, because 'Kangnam' and 'Seocho' did very well in a previous month?\""
   ]
  },
  {
   "cell_type": "markdown",
   "metadata": {},
   "source": [
    "Well, let's check 'September'! (+6.0%)"
   ]
  },
  {
   "cell_type": "markdown",
   "metadata": {},
   "source": [
    "<img src=\"images/1_2.png\"> </img>"
   ]
  },
  {
   "cell_type": "markdown",
   "metadata": {},
   "source": [
    "#### A: Indeed, though 'Seocho' only saw increase in revenue by 1.5%, the revenue of 'Kangnam' increased by 7.8%! "
   ]
  },
  {
   "cell_type": "markdown",
   "metadata": {},
   "source": [
    "Now, let's take a look at 'February' (-4.59%)"
   ]
  },
  {
   "cell_type": "markdown",
   "metadata": {},
   "source": [
    "<img src=\"images/1_3.png\"> </img>"
   ]
  },
  {
   "cell_type": "markdown",
   "metadata": {},
   "source": [
    "#### A: 'Kangnam' increased by 1.9%. 'Seocho' decreased by 0.5%. ('Seongdong' increased  by 3.1%. 'Kangseo' decreased by 15.1%.)"
   ]
  },
  {
   "cell_type": "markdown",
   "metadata": {},
   "source": [
    "#### A: When overall revenue of 18 cities decreased, the overall revenue of 'Kangnam' rather increased by 1.9%. It was one of the 3 districts ('Seongdong','Eunpyeong','Kangnam') that actually increased in total revenue"
   ]
  },
  {
   "cell_type": "markdown",
   "metadata": {},
   "source": [
    "### Conclusion"
   ]
  },
  {
   "cell_type": "markdown",
   "metadata": {},
   "source": [
    "In conclusion, although more convincing cases will definitely help to make the hypothesis valid, it can be said for now that the analysis seems to demonstrate that our hypothesis may not be too far-fetched. "
   ]
  },
  {
   "cell_type": "markdown",
   "metadata": {},
   "source": []
  },
  {
   "cell_type": "markdown",
   "metadata": {},
   "source": [
    "### 2. Second Hypothesis\n",
    "### \"Since 'medical' and 'wholesale' are the top two sectors that contribute the most to the overall revenue, if they are not doing well, the overall revenue will be heavily influenced. And vice versa.\""
   ]
  },
  {
   "cell_type": "markdown",
   "metadata": {},
   "source": [
    "To check this hypothesis, I first looked at the histogram of 'medical' sector. It presents a collection of percent increase in each month, as shown below. 'October' has -2.25%, and 'February' has -0.60%. However, in the month prior to 'October', there was 7.56% increase in revenue (September), while 'January' had 2.91% increase. Like we have done when we were testing the first hypothesis, this needs to be taken into account for normalization. \n",
    "For now, I will take a simpler approach and just test both 'February' and 'October.'"
   ]
  },
  {
   "cell_type": "markdown",
   "metadata": {},
   "source": [
    "<img src=\"images/2_0.png\"> </img>"
   ]
  },
  {
   "cell_type": "markdown",
   "metadata": {},
   "source": [
    "In the midst of an attempt to test this hypothesis, I discovered that simply looking at 'medical' sector alone would result in misleading analysis. This is because in the month of 'October,' all the other sectors saw decrease in revenue. This is illustrated in the below image."
   ]
  },
  {
   "cell_type": "markdown",
   "metadata": {},
   "source": [
    "<img src=\"images/2_1.png\"></img>"
   ]
  },
  {
   "cell_type": "markdown",
   "metadata": {},
   "source": [
    "For proper testing of this hypothesis, only 'medical' and 'wholesale' sectors have to see decrease in revenue, while all the other sectors have increase in revenue, not to mention additional comlexities involved. Since it does not have the combination needed, it was clear that examination of this hypothesis was no longer feasible."
   ]
  },
  {
   "cell_type": "markdown",
   "metadata": {},
   "source": [
    "### Conclusion"
   ]
  },
  {
   "cell_type": "markdown",
   "metadata": {},
   "source": [
    "This trial allowed me to experience the importance of the art of narrowing down: the reason for my failure with this experiment is a result of not carefully dissecting hypothesis formulation and in the process making it as detailed as possible."
   ]
  },
  {
   "cell_type": "markdown",
   "metadata": {},
   "source": []
  },
  {
   "cell_type": "markdown",
   "metadata": {},
   "source": [
    "## VI. Conclusion"
   ]
  },
  {
   "cell_type": "markdown",
   "metadata": {},
   "source": [
    "From this assignment, I realized how much effort and thoughts need to be exerted for proper analysis. Also, the importance of dataset was confirmed again. Overall, the assignment was a challenging yet rewarding experience."
   ]
  },
  {
   "cell_type": "markdown",
   "metadata": {},
   "source": []
  },
  {
   "cell_type": "markdown",
   "metadata": {},
   "source": []
  }
 ],
 "metadata": {
  "kernelspec": {
   "display_name": "Python 2",
   "language": "python",
   "name": "python2"
  },
  "language_info": {
   "codemirror_mode": {
    "name": "ipython",
    "version": 2
   },
   "file_extension": ".py",
   "mimetype": "text/x-python",
   "name": "python",
   "nbconvert_exporter": "python",
   "pygments_lexer": "ipython2",
   "version": "2.7.11"
  }
 },
 "nbformat": 4,
 "nbformat_minor": 0
}
